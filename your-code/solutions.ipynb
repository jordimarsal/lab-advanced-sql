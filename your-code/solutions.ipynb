{
 "cells": [
  {
   "cell_type": "code",
   "execution_count": 1,
   "metadata": {},
   "outputs": [],
   "source": [
    "# !pip install google-cloud-bigquery"
   ]
  },
  {
   "cell_type": "code",
   "execution_count": 1,
   "metadata": {},
   "outputs": [],
   "source": [
    "import os\n",
    "os.environ[\"GOOGLE_APPLICATION_CREDENTIALS\"]=\"/Users/Jordi/git/IronHack/Ironhack Data Analytics.json\""
   ]
  },
  {
   "cell_type": "code",
   "execution_count": 2,
   "metadata": {},
   "outputs": [],
   "source": [
    "from google.cloud import bigquery\n",
    "client = bigquery.Client()"
   ]
  },
  {
   "cell_type": "code",
   "execution_count": 3,
   "metadata": {},
   "outputs": [],
   "source": [
    "def select(query):\n",
    "    query_job = client.query(query)\n",
    "    df=query_job.to_dataframe()\n",
    "    return df\n",
    "    "
   ]
  },
  {
   "cell_type": "markdown",
   "metadata": {},
   "source": [
    "# Challenge 1"
   ]
  },
  {
   "cell_type": "code",
   "execution_count": 10,
   "metadata": {},
   "outputs": [
    {
     "data": {
      "text/html": [
       "<div>\n",
       "<style scoped>\n",
       "    .dataframe tbody tr th:only-of-type {\n",
       "        vertical-align: middle;\n",
       "    }\n",
       "\n",
       "    .dataframe tbody tr th {\n",
       "        vertical-align: top;\n",
       "    }\n",
       "\n",
       "    .dataframe thead th {\n",
       "        text-align: right;\n",
       "    }\n",
       "</style>\n",
       "<table border=\"1\" class=\"dataframe\">\n",
       "  <thead>\n",
       "    <tr style=\"text-align: right;\">\n",
       "      <th></th>\n",
       "      <th>AUTHOR_ID</th>\n",
       "      <th>PROFIT</th>\n",
       "    </tr>\n",
       "  </thead>\n",
       "  <tbody>\n",
       "    <tr>\n",
       "      <th>0</th>\n",
       "      <td>238-95-7766</td>\n",
       "      <td>110.160</td>\n",
       "    </tr>\n",
       "    <tr>\n",
       "      <th>1</th>\n",
       "      <td>998-72-3567</td>\n",
       "      <td>88.456</td>\n",
       "    </tr>\n",
       "    <tr>\n",
       "      <th>2</th>\n",
       "      <td>807-91-6654</td>\n",
       "      <td>83.800</td>\n",
       "    </tr>\n",
       "  </tbody>\n",
       "</table>\n",
       "</div>"
      ],
      "text/plain": [
       "     AUTHOR_ID   PROFIT\n",
       "0  238-95-7766  110.160\n",
       "1  998-72-3567   88.456\n",
       "2  807-91-6654   83.800"
      ]
     },
     "execution_count": 10,
     "metadata": {},
     "output_type": "execute_result"
    }
   ],
   "source": [
    "query = '''\n",
    "WITH royalties AS (\n",
    "    SELECT \n",
    "        authors.au_id AS AUTHOR_ID,\n",
    "        titles.title AS TITLE,\n",
    "        titles.price * sales.qty * titles.royalty / 100 * titleauthor.royaltyper / 100 AS ROYALTY\n",
    "    FROM \n",
    "        `ironhack-data-analytics.publications.authors` authors\n",
    "    JOIN\n",
    "        `ironhack-data-analytics.publications.titleauthor` titleauthor\n",
    "        ON authors.au_id = titleauthor.au_id\n",
    "    JOIN\n",
    "        `ironhack-data-analytics.publications.titles` titles\n",
    "        ON titleauthor.title_id = titles.title_id\n",
    "    JOIN\n",
    "        `ironhack-data-analytics.publications.sales` sales\n",
    "        ON sales.title_id = titles.title_id\n",
    "    ),\n",
    "  agr_roy AS(\n",
    "    SELECT\n",
    "        AUTHOR_ID,\n",
    "        TITLE,\n",
    "        SUM(ROYALTY) as ROYALTIES\n",
    "    FROM\n",
    "      royalties\n",
    "    GROUP BY \n",
    "      1,2\n",
    "    )\n",
    "    SELECT \n",
    "      AUTHOR_ID, \n",
    "      SUM(ROYALTIES) AS PROFIT\n",
    "    FROM \n",
    "      agr_roy\n",
    "    GROUP BY \n",
    "      1\n",
    "    ORDER BY \n",
    "      PROFIT DESC\n",
    "    LIMIT 3\n",
    "    '''\n",
    "df = select(query)\n",
    "df.head(10)"
   ]
  },
  {
   "cell_type": "markdown",
   "metadata": {},
   "source": [
    "# Challenge 2"
   ]
  },
  {
   "cell_type": "code",
   "execution_count": 11,
   "metadata": {},
   "outputs": [
    {
     "data": {
      "text/html": [
       "<div>\n",
       "<style scoped>\n",
       "    .dataframe tbody tr th:only-of-type {\n",
       "        vertical-align: middle;\n",
       "    }\n",
       "\n",
       "    .dataframe tbody tr th {\n",
       "        vertical-align: top;\n",
       "    }\n",
       "\n",
       "    .dataframe thead th {\n",
       "        text-align: right;\n",
       "    }\n",
       "</style>\n",
       "<table border=\"1\" class=\"dataframe\">\n",
       "  <thead>\n",
       "    <tr style=\"text-align: right;\">\n",
       "      <th></th>\n",
       "    </tr>\n",
       "  </thead>\n",
       "  <tbody>\n",
       "  </tbody>\n",
       "</table>\n",
       "</div>"
      ],
      "text/plain": [
       "Empty DataFrame\n",
       "Columns: []\n",
       "Index: []"
      ]
     },
     "execution_count": 11,
     "metadata": {},
     "output_type": "execute_result"
    }
   ],
   "source": [
    "query = '''\n",
    "    CREATE TABLE  `ironhack-data-analytics.publications.most_profiting_authors_j` AS (\n",
    "\n",
    "WITH royalties AS (\n",
    "    SELECT \n",
    "        authors.au_id AS AUTHOR_ID,\n",
    "        titles.title AS TITLE,\n",
    "        titles.price * sales.qty * titles.royalty / 100 * titleauthor.royaltyper / 100 AS ROYALTY\n",
    "    FROM \n",
    "        `ironhack-data-analytics.publications.authors` authors\n",
    "    JOIN\n",
    "        `ironhack-data-analytics.publications.titleauthor` titleauthor\n",
    "        ON authors.au_id = titleauthor.au_id\n",
    "    JOIN\n",
    "        `ironhack-data-analytics.publications.titles` titles\n",
    "        ON titleauthor.title_id = titles.title_id\n",
    "    JOIN\n",
    "        `ironhack-data-analytics.publications.sales` sales\n",
    "        ON sales.title_id = titles.title_id\n",
    "    ),\n",
    "  agr_roy AS(\n",
    "    SELECT\n",
    "        AUTHOR_ID,\n",
    "        TITLE,\n",
    "        SUM(ROYALTY) as ROYALTIES\n",
    "    FROM\n",
    "      royalties\n",
    "    GROUP BY \n",
    "      1,2\n",
    "    )\n",
    "    SELECT \n",
    "      AUTHOR_ID AS au_id, \n",
    "      SUM(ROYALTIES) AS profits\n",
    "    \n",
    "    FROM \n",
    "      agr_roy\n",
    "    GROUP BY \n",
    "      1\n",
    "    ORDER BY \n",
    "      profits DESC\n",
    "    )\n",
    "    \n",
    "    '''\n",
    "df = select(query)\n",
    "df.head(10)"
   ]
  },
  {
   "cell_type": "markdown",
   "metadata": {},
   "source": [
    "# Nota:\n",
    "\n",
    "#### Fixeu-vos que la taula s'ha creat amb el nom  `ironhack-data-analytics.publications.most_profiting_authors_j`"
   ]
  },
  {
   "cell_type": "code",
   "execution_count": 12,
   "metadata": {},
   "outputs": [
    {
     "data": {
      "text/html": [
       "<div>\n",
       "<style scoped>\n",
       "    .dataframe tbody tr th:only-of-type {\n",
       "        vertical-align: middle;\n",
       "    }\n",
       "\n",
       "    .dataframe tbody tr th {\n",
       "        vertical-align: top;\n",
       "    }\n",
       "\n",
       "    .dataframe thead th {\n",
       "        text-align: right;\n",
       "    }\n",
       "</style>\n",
       "<table border=\"1\" class=\"dataframe\">\n",
       "  <thead>\n",
       "    <tr style=\"text-align: right;\">\n",
       "      <th></th>\n",
       "      <th>au_id</th>\n",
       "      <th>profits</th>\n",
       "    </tr>\n",
       "  </thead>\n",
       "  <tbody>\n",
       "    <tr>\n",
       "      <th>0</th>\n",
       "      <td>238-95-7766</td>\n",
       "      <td>110.160</td>\n",
       "    </tr>\n",
       "    <tr>\n",
       "      <th>1</th>\n",
       "      <td>998-72-3567</td>\n",
       "      <td>88.456</td>\n",
       "    </tr>\n",
       "    <tr>\n",
       "      <th>2</th>\n",
       "      <td>807-91-6654</td>\n",
       "      <td>83.800</td>\n",
       "    </tr>\n",
       "    <tr>\n",
       "      <th>3</th>\n",
       "      <td>899-46-2035</td>\n",
       "      <td>78.132</td>\n",
       "    </tr>\n",
       "    <tr>\n",
       "      <th>4</th>\n",
       "      <td>846-92-7186</td>\n",
       "      <td>50.000</td>\n",
       "    </tr>\n",
       "    <tr>\n",
       "      <th>5</th>\n",
       "      <td>427-17-2319</td>\n",
       "      <td>50.000</td>\n",
       "    </tr>\n",
       "    <tr>\n",
       "      <th>6</th>\n",
       "      <td>213-46-8915</td>\n",
       "      <td>37.110</td>\n",
       "    </tr>\n",
       "    <tr>\n",
       "      <th>7</th>\n",
       "      <td>648-92-1872</td>\n",
       "      <td>33.460</td>\n",
       "    </tr>\n",
       "    <tr>\n",
       "      <th>8</th>\n",
       "      <td>756-30-7391</td>\n",
       "      <td>32.385</td>\n",
       "    </tr>\n",
       "    <tr>\n",
       "      <th>9</th>\n",
       "      <td>274-80-9391</td>\n",
       "      <td>29.985</td>\n",
       "    </tr>\n",
       "  </tbody>\n",
       "</table>\n",
       "</div>"
      ],
      "text/plain": [
       "         au_id  profits\n",
       "0  238-95-7766  110.160\n",
       "1  998-72-3567   88.456\n",
       "2  807-91-6654   83.800\n",
       "3  899-46-2035   78.132\n",
       "4  846-92-7186   50.000\n",
       "5  427-17-2319   50.000\n",
       "6  213-46-8915   37.110\n",
       "7  648-92-1872   33.460\n",
       "8  756-30-7391   32.385\n",
       "9  274-80-9391   29.985"
      ]
     },
     "execution_count": 12,
     "metadata": {},
     "output_type": "execute_result"
    }
   ],
   "source": [
    "query = '''\n",
    "    SELECT\n",
    "        *\n",
    "    FROM\n",
    "        `ironhack-data-analytics.publications.most_profiting_authors_j`\n",
    "    \n",
    "    '''\n",
    "df = select(query)\n",
    "df.head(10)"
   ]
  },
  {
   "cell_type": "code",
   "execution_count": null,
   "metadata": {},
   "outputs": [],
   "source": []
  }
 ],
 "metadata": {
  "kernelspec": {
   "display_name": "Python 3",
   "language": "python",
   "name": "python3"
  },
  "language_info": {
   "codemirror_mode": {
    "name": "ipython",
    "version": 3
   },
   "file_extension": ".py",
   "mimetype": "text/x-python",
   "name": "python",
   "nbconvert_exporter": "python",
   "pygments_lexer": "ipython3",
   "version": "3.6.8"
  }
 },
 "nbformat": 4,
 "nbformat_minor": 2
}
